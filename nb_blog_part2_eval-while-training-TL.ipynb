{
 "cells": [
  {
   "cell_type": "code",
   "execution_count": null,
   "id": "478bb206-fbcf-4c7e-9212-2ae933b254cc",
   "metadata": {
    "scrolled": true
   },
   "outputs": [],
   "source": [
    "!pip install -U peft transformers bitsandbytes accelerate datasets wandb trl flash-attn sentencepiece"
   ]
  },
  {
   "cell_type": "code",
   "execution_count": 2,
   "id": "db618450-c9a1-4dca-99a8-4ffdd9212abd",
   "metadata": {},
   "outputs": [
    {
     "name": "stdout",
     "output_type": "stream",
     "text": [
      "accelerate                        0.28.0             /home/g/accelerate_fork\n",
      "bitsandbytes                      0.42.0\n",
      "datasets                          2.18.0\n",
      "flash-attn                        2.5.6\n",
      "open-clip-torch                   2.23.0\n",
      "peft                              0.9.0\n",
      "sentence-transformers             2.3.1\n",
      "sentencepiece                     0.2.0\n",
      "torch                             2.2.1\n",
      "torch-grammar                     0.3.3\n",
      "transformers                      4.38.2\n",
      "trl                               0.7.11\n"
     ]
    }
   ],
   "source": [
    "!pip list | egrep -w \"transformers|datasets|accelerate|peft|bitsandbytes|trl|torch|flash-attn|sentencepiece\""
   ]
  },
  {
   "cell_type": "code",
   "execution_count": null,
   "id": "ea7740aa-b353-4af1-a409-d3b3b109deb1",
   "metadata": {},
   "outputs": [],
   "source": [
    "from transformers import AutoTokenizer, AutoModelForCausalLM, TrainingArguments, BitsAndBytesConfig, set_seed\n",
    "from peft import LoraConfig\n",
    "from trl import SFTTrainer, setup_chat_format, DataCollatorForCompletionOnlyLM\n",
    "from datasets import load_dataset\n",
    "import torch\n",
    "\n",
    "set_seed(42)\n",
    "\n",
    "modelpath = \"TinyLlama/TinyLlama-1.1B-intermediate-step-1431k-3T\"\n",
    "model = AutoModelForCausalLM.from_pretrained(\n",
    "    modelpath,    \n",
    "    device_map = \"auto\",\n",
    "    torch_dtype = torch.bfloat16,\n",
    "    # there's an issue with using FA2 and model.generate() while training: RuntimeError: query and key must have the same dtype\n",
    "    # attn_implementation = \"flash_attention_2\",   \n",
    ")\n",
    "tokenizer = AutoTokenizer.from_pretrained(modelpath, use_fast = False)\n",
    "\n",
    "model, tokenizer = setup_chat_format(model, tokenizer)\n",
    "if tokenizer.pad_token in [None, tokenizer.eos_token]: \n",
    "    tokenizer.pad_token = tokenizer.unk_token\n",
    "\n",
    "dataset = load_dataset(\"g-ronimo/oasst2_top4k_en\")\n",
    "\n",
    "training_arguments = TrainingArguments(\n",
    "    output_dir = \"out_OA_TL\",\n",
    "    evaluation_strategy = \"steps\",\n",
    "    label_names = [\"labels\"],\n",
    "    per_device_train_batch_size = 16,\n",
    "    gradient_accumulation_steps = 1,\n",
    "    save_steps = 250,\n",
    "    eval_steps = 250,\n",
    "    logging_steps = 1, \n",
    "    learning_rate = 1e-5,\n",
    "    num_train_epochs=10,\n",
    "    lr_scheduler_type = \"constant\",\n",
    "    optim = 'paged_adamw_32bit',\n",
    "    bf16 = True,\n",
    "    gradient_checkpointing = True,\n",
    "    group_by_length = True,\n",
    ")\n",
    "\n",
    "trainer = SFTTrainer(\n",
    "    model = model,\n",
    "    tokenizer = tokenizer,\n",
    "    train_dataset = dataset[\"train\"],\n",
    "    eval_dataset = dataset['test'],\n",
    "    data_collator = DataCollatorForCompletionOnlyLM(\n",
    "        instruction_template = \"<|im_start|>user\", \n",
    "        response_template = \"<|im_start|>assistant\", \n",
    "        tokenizer = tokenizer, \n",
    "        mlm = False),\n",
    "    max_seq_length = 512,\n",
    "    args = training_arguments,\n",
    ")"
   ]
  },
  {
   "cell_type": "code",
   "execution_count": null,
   "id": "60029d1c-0c07-4d5b-94fe-49c332b6f411",
   "metadata": {},
   "outputs": [],
   "source": [
    "from transformers import TrainerCallback\n",
    "from statistics import mean\n",
    "\n",
    "from semscore import ModelPredictionGenerator, EmbeddingModelWrapper\n",
    "\n",
    "class SemscoreEvalCallback(TrainerCallback):\n",
    "    def on_evaluate(self, args, state, control, model, tokenizer, eval_dataloader, **kwargs):\n",
    "\n",
    "        generator = ModelPredictionGenerator(model = model, tokenizer = tokenizer)\n",
    "        eval_ds = dataset[\"test\"].select(range(100))\n",
    "        results = generator.run(dataset = eval_ds)\n",
    "\n",
    "        em = EmbeddingModelWrapper()\n",
    "        similarities = em.get_similarities(\n",
    "            em.get_embeddings( [a[\"answer_ref\"] for a in results] ),\n",
    "            em.get_embeddings( [a[\"answer_pred\"] for a in results] ),\n",
    "        )\n",
    "        cosine_sim = mean(similarities)\n",
    "        trainer.log({\"cosine_sim\": cosine_sim})\n",
    "trainer.add_callback(SemscoreEvalCallback())"
   ]
  },
  {
   "cell_type": "code",
   "execution_count": null,
   "id": "9554afca-8da4-4832-bc1e-02031cf32ad7",
   "metadata": {},
   "outputs": [],
   "source": [
    "trainer.train()"
   ]
  }
 ],
 "metadata": {
  "kernelspec": {
   "display_name": "Python 3 (ipykernel)",
   "language": "python",
   "name": "python3"
  },
  "language_info": {
   "codemirror_mode": {
    "name": "ipython",
    "version": 3
   },
   "file_extension": ".py",
   "mimetype": "text/x-python",
   "name": "python",
   "nbconvert_exporter": "python",
   "pygments_lexer": "ipython3",
   "version": "3.10.12"
  }
 },
 "nbformat": 4,
 "nbformat_minor": 5
}
