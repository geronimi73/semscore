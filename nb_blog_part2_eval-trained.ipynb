{
 "cells": [
  {
   "cell_type": "code",
   "execution_count": 1,
   "id": "c06219ad-6f6e-4b8a-9368-635cd633ed4f",
   "metadata": {},
   "outputs": [
    {
     "name": "stdout",
     "output_type": "stream",
     "text": [
      "accelerate                        0.28.0             /home/g/accelerate_fork\n",
      "bitsandbytes                      0.42.0\n",
      "datasets                          2.16.1\n",
      "open-clip-torch                   2.23.0\n",
      "peft                              0.9.0\n",
      "sentence-transformers             2.3.1\n",
      "torch                             2.2.1\n",
      "torch-grammar                     0.3.3\n",
      "transformers                      4.38.1\n",
      "trl                               0.7.11\n",
      "Note: you may need to restart the kernel to use updated packages.\n"
     ]
    }
   ],
   "source": [
    "pip list | egrep -w \"torch|transformers|datasets|accelerate|bitsandbytes|peft|trl\""
   ]
  },
  {
   "cell_type": "markdown",
   "id": "162268be-6aab-48a1-8722-3ba9cfbe1069",
   "metadata": {},
   "source": [
    "# Hello world again, this time with EmbeddingModelWrapper"
   ]
  },
  {
   "cell_type": "code",
   "execution_count": 1,
   "id": "96c60ed3-0986-47e8-97df-7cdfc88e9d00",
   "metadata": {},
   "outputs": [
    {
     "name": "stderr",
     "output_type": "stream",
     "text": [
      "100%|███████████████████████████████████████████████████████| 1/1 [00:00<00:00,  1.98it/s]\n",
      "100%|██████████████████████████████████████████████████████| 4/4 [00:00<00:00, 172.07it/s]\n"
     ]
    }
   ],
   "source": [
    "from semscore import EmbeddingModelWrapper\n",
    "em = EmbeddingModelWrapper()\n",
    "\n",
    "words = [\"lemon\", \"orange\", \"car\", \"money\"]\n",
    "embds = em.get_embeddings(words)\n",
    "\n",
    "similarities = em.get_similarities(embds)"
   ]
  },
  {
   "cell_type": "code",
   "execution_count": 2,
   "id": "3cacf384-ba10-4902-916d-7882b38c4805",
   "metadata": {},
   "outputs": [
    {
     "data": {
      "text/plain": [
       "tensor([[1.0000, 0.5340, 0.2909, 0.2281],\n",
       "        [0.5340, 1.0000, 0.3027, 0.1968],\n",
       "        [0.2909, 0.3027, 1.0000, 0.3411],\n",
       "        [0.2281, 0.1968, 0.3411, 1.0000]])"
      ]
     },
     "metadata": {},
     "output_type": "display_data"
    }
   ],
   "source": [
    "display(similarities)"
   ]
  },
  {
   "cell_type": "markdown",
   "id": "bdadad2c-28e9-4593-8f32-dd00e766c7ea",
   "metadata": {},
   "source": [
    "# Test TinyLlama on a tiny subset of the Open Assistant dataset"
   ]
  },
  {
   "cell_type": "code",
   "execution_count": 3,
   "id": "59f60601-ef69-469b-81a7-dbb644045fe7",
   "metadata": {},
   "outputs": [],
   "source": [
    "from datasets import load_dataset\n",
    "\n",
    "dataset_name=\"g-ronimo/oasst2_top1_en\"\n",
    "dataset = load_dataset(dataset_name)[\"train\"]\n",
    "dataset = dataset.shuffle(seed=42).select(range(10))"
   ]
  },
  {
   "cell_type": "code",
   "execution_count": 4,
   "id": "ce176e7d-9071-4982-b47e-f1c42b2e8eb9",
   "metadata": {},
   "outputs": [
    {
     "data": {
      "text/plain": [
       "Dataset({\n",
       "    features: ['conversation'],\n",
       "    num_rows: 10\n",
       "})"
      ]
     },
     "execution_count": 4,
     "metadata": {},
     "output_type": "execute_result"
    }
   ],
   "source": [
    "dataset"
   ]
  },
  {
   "cell_type": "code",
   "execution_count": 5,
   "id": "e0d0cc3e-b17a-4c29-a50e-d6cf8b041d44",
   "metadata": {},
   "outputs": [
    {
     "name": "stdout",
     "output_type": "stream",
     "text": [
      "{\n",
      "  \"conversation\": [\n",
      "    {\n",
      "      \"content\": \"Can photoshop be used as a tool to forge documents illegally?\",\n",
      "      \"role\": \"user\"\n",
      "    },\n",
      "    {\n",
      "      \"content\": \"Yes, Photoshop can be used to forge documents due to the application's ability to modify digital images. Users with access to a Photoshop tool would have the potential to alter documents and create highly convincing fakes. It is important to note that forging documents is not an intended goal of the photoshop tool, and forging documents is likely to be illegal or immoral based on a specific situation.\",\n",
      "      \"role\": \"assistant\"\n",
      "    }\n",
      "  ]\n",
      "}\n"
     ]
    }
   ],
   "source": [
    "import json\n",
    "print(json.dumps(dataset[0], indent=2))"
   ]
  },
  {
   "cell_type": "markdown",
   "id": "b53feae8-734e-49fb-8831-caf094650150",
   "metadata": {},
   "source": [
    "## load model and tokenizer"
   ]
  },
  {
   "cell_type": "code",
   "execution_count": 6,
   "id": "fac019f6-0a98-4acc-8cdf-3e97736e245f",
   "metadata": {},
   "outputs": [],
   "source": [
    "from transformers import AutoModelForCausalLM, AutoTokenizer\n",
    "import torch, json\n",
    "\n",
    "model_path=\"TinyLlama/TinyLlama-1.1B-Chat-v1.0\"\n",
    "model = AutoModelForCausalLM.from_pretrained(\n",
    "    model_path,    \n",
    "    device_map=\"auto\",\n",
    "    torch_dtype=torch.bfloat16,\n",
    "    trust_remote_code=True,\n",
    ")\n",
    "tokenizer=AutoTokenizer.from_pretrained(model_path, use_fast=False)"
   ]
  },
  {
   "cell_type": "markdown",
   "id": "3c92735a-ee74-419c-b31a-7304e508f33f",
   "metadata": {},
   "source": [
    "## challenge TinyLlama with (n=10) questions in the dataset"
   ]
  },
  {
   "cell_type": "code",
   "execution_count": 11,
   "id": "f8cfce5f-e946-4deb-9661-b1b172866ca0",
   "metadata": {},
   "outputs": [
    {
     "name": "stderr",
     "output_type": "stream",
     "text": [
      "100%|█████████████████████████████████████████████████████| 10/10 [04:11<00:00, 25.13s/it]\n"
     ]
    }
   ],
   "source": [
    "from tqdm import tqdm \n",
    "\n",
    "answers_ref, answers_pred = [], []\n",
    "\n",
    "for conversation in tqdm(dataset[\"conversation\"]):\n",
    "    for i, msg in enumerate(conversation):\n",
    "        if msg[\"role\"] == \"assistant\": continue\n",
    "        partial_conv = conversation[0:i+1]\n",
    "\n",
    "        prompt_tok = tokenizer.apply_chat_template(\n",
    "            partial_conv, \n",
    "            add_generation_prompt = True, \n",
    "            return_tensors=\"pt\"\n",
    "        ).to(\"cuda\")\n",
    "        answer_tok = model.generate(\n",
    "            prompt_tok, \n",
    "            eos_token_id = tokenizer.eos_token_id,\n",
    "            max_new_tokens = 2000, \n",
    "        )\n",
    "        answer = tokenizer.decode(\n",
    "            answer_tok[0][len(prompt_tok[0]):], \n",
    "            skip_special_tokens = True\n",
    "        )\n",
    "\n",
    "        answers_pred.append(answer) \n",
    "        answers_ref.append(conversation[i+1][\"content\"])  "
   ]
  },
  {
   "cell_type": "code",
   "execution_count": 12,
   "id": "4aa0a848-a6d3-4466-97ea-79c726e6a10f",
   "metadata": {},
   "outputs": [
    {
     "name": "stdout",
     "output_type": "stream",
     "text": [
      "Yes, photoshop can be used as a tool to forge documents illegally. Photoshop is a powerful image editing software that can be used to manipulate images and create fake documents. It can be used to create fake signatures, addresses, and other documents that are not genuine. However, it is essential to note that using photoshop for forging documents can lead to legal consequences, and it is best to avoid using this software for this purpose.\n",
      "\n",
      "In some cases, photoshop can be used to create fake documents that are indistinguishable from genuine documents. However, it is essential to note that the software can be easily detected and can lead to legal consequences. It is best to avoid using photoshop for forging documents and instead use other legal methods to create fake documents.\n",
      "\n",
      "In summary, photoshop can be used as a tool to forge documents illegally, but it is essential to avoid using this software for this purpose and use other legal methods to create fake documents.\n"
     ]
    }
   ],
   "source": [
    "print(answers_pred[0])"
   ]
  },
  {
   "cell_type": "code",
   "execution_count": 13,
   "id": "fd77a521-b7d9-43fe-9c6b-8f417464f707",
   "metadata": {},
   "outputs": [
    {
     "name": "stdout",
     "output_type": "stream",
     "text": [
      "Yes, Photoshop can be used to forge documents due to the application's ability to modify digital images. Users with access to a Photoshop tool would have the potential to alter documents and create highly convincing fakes. It is important to note that forging documents is not an intended goal of the photoshop tool, and forging documents is likely to be illegal or immoral based on a specific situation.\n"
     ]
    }
   ],
   "source": [
    "print(answers_ref[0])"
   ]
  },
  {
   "cell_type": "code",
   "execution_count": 14,
   "id": "9d6ad282-3cb6-47c0-a3e6-b812b1a3794e",
   "metadata": {},
   "outputs": [
    {
     "name": "stderr",
     "output_type": "stream",
     "text": [
      "100%|███████████████████████████████████████████████████████| 2/2 [00:00<00:00, 17.38it/s]\n",
      "100%|███████████████████████████████████████████████████████| 2/2 [00:00<00:00, 12.79it/s]\n"
     ]
    },
    {
     "name": "stdout",
     "output_type": "stream",
     "text": [
      "question 0: 0.9192708730697632\n",
      "question 1: 0.8718356490135193\n",
      "question 2: 0.7959429621696472\n",
      "question 3: 0.6209906339645386\n",
      "question 4: 0.5349656343460083\n",
      "question 5: 0.5585931539535522\n",
      "question 6: 0.880068838596344\n",
      "question 7: 0.917442798614502\n",
      "question 8: 0.4834440350532532\n",
      "question 9: 0.5997608304023743\n",
      "question 10: 0.8643136620521545\n",
      "question 11: 0.34133124351501465\n",
      "question 12: 0.8355472683906555\n",
      "avg. similarity pred. vs. ref.: 0.7095005833185636 \n",
      "\n"
     ]
    }
   ],
   "source": [
    "# from semscore import EmbeddingModelWrapper\n",
    "from statistics import mean\n",
    "\n",
    "# em = EmbeddingModelWrapper()\n",
    "similarities = em.get_similarities(\n",
    "    em.get_embeddings( answers_pred ),\n",
    "    em.get_embeddings( answers_ref ),\n",
    ")\n",
    "\n",
    "for i, result in enumerate(similarities):\n",
    "    print(f\"question {i}: {similarities[i]}\")\n",
    "\n",
    "print(\"avg. similarity pred. vs. ref.:\", mean(similarities), \"\\n\")"
   ]
  },
  {
   "cell_type": "markdown",
   "id": "f4c4cd4b-fb53-41f1-9514-2b4c4a78caa4",
   "metadata": {},
   "source": [
    "# Go bigger: Evaluate TinyLlama and Mistral on 100 questions from the OA2 dataset  \n",
    "* load OA dataset, select 100 questions\n",
    "* speed up inference by using `ModelPredictionGenerator` for batched inference\n",
    "* generate answers to 100 questions with `TinyLlama-1.1B-Chat-v1.0` and `Mistral-7B-Instruct-v0.2`\n",
    "* calculate avg. similarity of each model's answers and the reference answer "
   ]
  },
  {
   "cell_type": "code",
   "execution_count": 15,
   "id": "6c4739f1-8872-4b79-abf2-c941dc35fae7",
   "metadata": {},
   "outputs": [
    {
     "name": "stderr",
     "output_type": "stream",
     "text": [
      "100%|███████████████████████████████████████████████████████| 3/3 [01:56<00:00, 38.94s/it]\n",
      "100%|█████████████████████████████████████████████████████| 20/20 [00:01<00:00, 12.40it/s]\n",
      "100%|█████████████████████████████████████████████████████| 20/20 [00:01<00:00, 11.75it/s]\n"
     ]
    },
    {
     "name": "stdout",
     "output_type": "stream",
     "text": [
      "TinyLlama/TinyLlama-1.1B-Chat-v1.0 0.6903450180861083 \n",
      "\n"
     ]
    },
    {
     "data": {
      "application/vnd.jupyter.widget-view+json": {
       "model_id": "91275a720ff7489db84a7907bc739a42",
       "version_major": 2,
       "version_minor": 0
      },
      "text/plain": [
       "Loading checkpoint shards:   0%|          | 0/3 [00:00<?, ?it/s]"
      ]
     },
     "metadata": {},
     "output_type": "display_data"
    },
    {
     "name": "stderr",
     "output_type": "stream",
     "text": [
      "  0%|                                                               | 0/3 [00:00<?, ?it/s]\n"
     ]
    },
    {
     "name": "stdout",
     "output_type": "stream",
     "text": [
      "OOM, retrying with batch size 32\n"
     ]
    },
    {
     "name": "stderr",
     "output_type": "stream",
     "text": [
      "  0%|                                                               | 0/5 [00:01<?, ?it/s]\n"
     ]
    },
    {
     "name": "stdout",
     "output_type": "stream",
     "text": [
      "OOM, retrying with batch size 16\n"
     ]
    },
    {
     "name": "stderr",
     "output_type": "stream",
     "text": [
      "  0%|                                                              | 0/10 [00:32<?, ?it/s]\n"
     ]
    },
    {
     "name": "stdout",
     "output_type": "stream",
     "text": [
      "OOM, retrying with batch size 8\n"
     ]
    },
    {
     "name": "stderr",
     "output_type": "stream",
     "text": [
      "100%|█████████████████████████████████████████████████████| 20/20 [07:58<00:00, 23.95s/it]\n",
      "100%|█████████████████████████████████████████████████████| 20/20 [00:01<00:00, 12.37it/s]\n",
      "100%|█████████████████████████████████████████████████████| 20/20 [00:01<00:00, 11.46it/s]\n"
     ]
    },
    {
     "name": "stdout",
     "output_type": "stream",
     "text": [
      "models/Mistral-7B-Instruct-v0.2 0.7476783179036983 \n",
      "\n"
     ]
    }
   ],
   "source": [
    "from transformers import AutoModelForCausalLM, AutoTokenizer, set_seed\n",
    "from statistics import mean\n",
    "from datasets import load_dataset\n",
    "import torch, json, gc\n",
    "\n",
    "from semscore import ModelPredictionGenerator, EmbeddingModelWrapper\n",
    "\n",
    "set_seed(42)\n",
    "\n",
    "dataset_name=\"g-ronimo/oasst2_top1_en\"\n",
    "dataset = load_dataset(dataset_name)[\"train\"]\n",
    "dataset = dataset.shuffle().select(range(100))\n",
    "\n",
    "results={}\n",
    "\n",
    "def test(model_path, eval_ds):\n",
    "    model = AutoModelForCausalLM.from_pretrained(\n",
    "        model_path,    \n",
    "        device_map=\"auto\",\n",
    "        torch_dtype=torch.bfloat16,\n",
    "    )\n",
    "    tokenizer=AutoTokenizer.from_pretrained(model_path, use_fast=False, trust_remote_code=True)\n",
    "    \n",
    "    generator = ModelPredictionGenerator(*(model, tokenizer))\n",
    "    result = generator.run(dataset = eval_ds)\n",
    "\n",
    "    em = EmbeddingModelWrapper()\n",
    "    similarities = em.get_similarities(\n",
    "        em.get_embeddings( [a[\"answer_ref\"] for a in result] ),\n",
    "        em.get_embeddings( [a[\"answer_pred\"] for a in result] ),\n",
    "    )    \n",
    "    print(model_path, mean(similarities), \"\\n\")\n",
    "\n",
    "    return result\n",
    "\n",
    "for model_path in [\n",
    "    \"TinyLlama/TinyLlama-1.1B-Chat-v1.0\",\n",
    "    \"mistralai/Mistral-7B-Instruct-v0.2\",\n",
    "]:    \n",
    "    results[model_path] = test(model_path, dataset)\n",
    "    torch.cuda.empty_cache()\n",
    "    gc.collect()"
   ]
  },
  {
   "cell_type": "code",
   "execution_count": 17,
   "id": "3f5c4c44-f5a8-4907-8421-3f767d1b9156",
   "metadata": {},
   "outputs": [
    {
     "data": {
      "text/plain": [
       "{'prompt': '<|user|>\\nCan photoshop be used as a tool to forge documents illegally?</s>\\n<|assistant|>\\n',\n",
       " 'answer_ref': \"Yes, Photoshop can be used to forge documents due to the application's ability to modify digital images. Users with access to a Photoshop tool would have the potential to alter documents and create highly convincing fakes. It is important to note that forging documents is not an intended goal of the photoshop tool, and forging documents is likely to be illegal or immoral based on a specific situation.\",\n",
       " 'answer_pred': 'Yes, photoshop can be used as a tool to forge documents illegally. Photoshop is a powerful image editing software that allows users to manipulate images and create new ones. It has the ability to add or remove text, change colors, and adjust other visual elements of an image. This makes it easy for fraudsters to alter documents by manipulating images in ways that are difficult to detect with traditional methods like handwriting analysis or fingerprint scanning. Additionally, many document forgery techniques rely on the use of digital signatures, which require specific formatting and layouts to work effectively. Therefore, using photoshop to modify documents can make them more susceptible to forgery. However, there are several measures that can be taken to prevent this from happening, such as implementing strict security protocols, regularly updating software, and conducting regular audits to identify any potential vulnerabilities.',\n",
       " 'tok/s': 629.0}"
      ]
     },
     "execution_count": 17,
     "metadata": {},
     "output_type": "execute_result"
    }
   ],
   "source": [
    "results[\"TinyLlama/TinyLlama-1.1B-Chat-v1.0\"][0]"
   ]
  }
 ],
 "metadata": {
  "kernelspec": {
   "display_name": "Python 3 (ipykernel)",
   "language": "python",
   "name": "python3"
  },
  "language_info": {
   "codemirror_mode": {
    "name": "ipython",
    "version": 3
   },
   "file_extension": ".py",
   "mimetype": "text/x-python",
   "name": "python",
   "nbconvert_exporter": "python",
   "pygments_lexer": "ipython3",
   "version": "3.10.12"
  }
 },
 "nbformat": 4,
 "nbformat_minor": 5
}
