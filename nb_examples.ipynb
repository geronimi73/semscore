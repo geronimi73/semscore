{
 "cells": [
  {
   "cell_type": "code",
   "execution_count": 1,
   "id": "ce7509b6-7362-4ff1-a728-6843879b17a7",
   "metadata": {},
   "outputs": [
    {
     "name": "stdout",
     "output_type": "stream",
     "text": [
      "open-clip-torch==2.23.0\n",
      "pytorch-lightning==1.9.4\n",
      "sentence-transformers==2.3.1\n",
      "torch==2.1.0\n",
      "torch-grammar==0.3.3\n",
      "torchaudio==2.1.0\n",
      "torchdiffeq==0.2.3\n",
      "torchmetrics==1.2.0\n",
      "torchsde==0.2.6\n",
      "torchtyping==0.1.4\n",
      "torchvision==0.16.0\n",
      "transformers==4.37.2\n"
     ]
    }
   ],
   "source": [
    "!pip freeze | egrep \"torch|transformers\""
   ]
  },
  {
   "cell_type": "markdown",
   "id": "5d83a92d-667e-44c8-80c8-0a08a8212581",
   "metadata": {},
   "source": [
    "# Embedding model wrapper"
   ]
  },
  {
   "cell_type": "code",
   "execution_count": 2,
   "id": "af7c16dc-c15e-48b1-a5bc-75df85a379e9",
   "metadata": {},
   "outputs": [],
   "source": [
    "from transformers import AutoTokenizer, AutoModel\n",
    "import torch, torch.nn as nn\n",
    "\n",
    "class EmbeddingModelWrapper():\n",
    "    def __init__(self, model_path, bs=8):\n",
    "        self.model, self.tokenizer = self.load_model(model_path)\n",
    "        self.bs = bs\n",
    "\n",
    "    def load_model(self, model_path):\n",
    "        model = AutoModel.from_pretrained(\n",
    "            model_path,\n",
    "        ).cuda()\n",
    "        model.eval()\n",
    "        tokenizer = AutoTokenizer.from_pretrained(\n",
    "             model_path,\n",
    "        )\n",
    "        return model, tokenizer\n",
    "\n",
    "    def emb_mean_pooling(self, model_output, attention_mask):\n",
    "        token_embeddings = model_output[0] \n",
    "        input_mask_expanded = attention_mask.unsqueeze(-1).expand(token_embeddings.size()).float()\n",
    "        return torch.sum(token_embeddings * input_mask_expanded, 1) / torch.clamp(input_mask_expanded.sum(1), min=1e-9)\n",
    "\n",
    "    def get_embeddings(self, sentences):\n",
    "        embeddings=torch.tensor([],device=\"cuda\")\n",
    "        \n",
    "        if self.bs is None:\n",
    "            batches=[sentences]\n",
    "        else:\n",
    "            batches = [sentences[i:i + self.bs] for i in range(0, len(sentences), self.bs)]  \n",
    "            \n",
    "        for sentences in batches:\n",
    "            encoded_input = self.tokenizer(sentences, padding=True, truncation=True, return_tensors='pt').to(\"cuda\")\n",
    "            with torch.no_grad():\n",
    "                model_output = self.model(**encoded_input)        \n",
    "            batch_embeddings=self.emb_mean_pooling(model_output, encoded_input['attention_mask'])\n",
    "            \n",
    "            embeddings=torch.cat( (embeddings, batch_embeddings), dim=0 )\n",
    "\n",
    "        return embeddings\n",
    "\n",
    "    def get_similarities(self, x, y):\n",
    "        cos = nn.CosineSimilarity(dim=1, eps=1e-6)\n",
    "        similarities=[]\n",
    "        for i in range(x.shape[0]):\n",
    "            similarities.append(\n",
    "                cos(\n",
    "                    x[i,:].unsqueeze(0), \n",
    "                    y[i,:].unsqueeze(0),\n",
    "                   ).item()\n",
    "            )    \n",
    "        return similarities"
   ]
  },
  {
   "cell_type": "markdown",
   "id": "d6f2d6aa-c7cf-4995-8c5d-481003f7fc22",
   "metadata": {},
   "source": [
    "# 1. Hello World - apples and oranges"
   ]
  },
  {
   "cell_type": "code",
   "execution_count": 3,
   "id": "7a5097a1-f0c3-4c26-abb7-b999aaf754a9",
   "metadata": {},
   "outputs": [
    {
     "name": "stderr",
     "output_type": "stream",
     "text": [
      "/home/g/.local/lib/python3.10/site-packages/torch/_utils.py:831: UserWarning: TypedStorage is deprecated. It will be removed in the future and UntypedStorage will be the only storage class. This should only matter to you if you are using storages directly.  To access UntypedStorage directly, use tensor.untyped_storage() instead of tensor.storage()\n",
      "  return self.fget.__get__(instance, owner)()\n"
     ]
    }
   ],
   "source": [
    "em = EmbeddingModelWrapper(\n",
    "    model_path=\"models/all-mpnet-base-v2\",\n",
    ")"
   ]
  },
  {
   "cell_type": "code",
   "execution_count": 4,
   "id": "2a5a7e71-4982-4aca-9105-41ff6cf9bf75",
   "metadata": {},
   "outputs": [
    {
     "data": {
      "text/plain": [
       "tensor([[-2.6158e-02,  1.0972e-03,  1.9490e-03, -1.5415e-01,  1.0197e-01,\n",
       "         -3.9290e-02,  8.1013e-02, -7.5646e-02,  4.3267e-02,  1.0678e-03,\n",
       "          5.1846e-02,  1.0715e-01,  6.8081e-02,  3.1373e-02, -8.5769e-02,\n",
       "          1.4240e-01,  1.1476e-01,  1.7387e-01, -4.1105e-02, -3.7481e-02,\n",
       "         -8.8261e-02,  7.2159e-02,  1.3279e-01, -7.4174e-02, -1.6154e-01,\n",
       "         -8.7108e-02, -3.3193e-02,  2.8442e-02,  2.9079e-02,  2.1674e-02,\n",
       "          5.3057e-02, -8.4183e-02, -1.7641e-01, -1.9407e-02,  5.7348e-06,\n",
       "          2.6869e-02,  9.7349e-02, -3.7944e-02, -3.6554e-02,  1.5833e-01,\n",
       "          4.0622e-02,  1.8161e-01, -1.0819e-01,  1.1764e-01, -9.2412e-02,\n",
       "         -4.8116e-02,  3.8363e-02,  4.8428e-02,  8.8508e-02,  5.5698e-02,\n",
       "         -8.4368e-02, -1.1390e-01, -1.2090e-01,  3.1135e-02, -1.0336e-01,\n",
       "          2.5246e-02,  6.6967e-02, -1.7385e-02,  1.6231e-01,  9.1704e-04,\n",
       "          1.0580e-01, -1.8477e-01,  8.3929e-02, -2.7656e-02, -1.4912e-01,\n",
       "          6.6333e-02,  1.7666e-01, -7.0269e-02, -1.4830e-01, -6.1687e-02,\n",
       "          5.7372e-02,  1.0679e-01, -4.7229e-02,  1.4600e-01,  1.9210e-03,\n",
       "          7.3807e-03,  5.1920e-02,  4.0232e-02, -5.1503e-02, -1.9580e-02,\n",
       "         -1.9562e-03,  3.9962e-02,  1.2682e-01, -3.8551e-02, -1.2405e-01,\n",
       "          1.4880e-02,  1.1994e-01, -3.9265e-02,  3.0023e-02, -3.3508e-02,\n",
       "         -5.1303e-02, -1.4723e-01,  3.0578e-02,  9.7007e-02,  5.8879e-02,\n",
       "         -9.1233e-02, -1.4282e-01,  1.3195e-01, -1.8213e-01, -2.2456e-01,\n",
       "         -8.1847e-02, -4.9396e-02, -5.8987e-03,  6.0762e-02,  2.7399e-02,\n",
       "         -4.1031e-02, -1.1460e-01,  3.8221e-03, -1.4809e-01,  1.2012e-01,\n",
       "          3.4984e-02,  7.8493e-02, -6.7209e-02,  2.6156e-01,  6.3579e-02,\n",
       "         -1.0924e-01, -1.9633e-01,  8.5434e-02, -1.7996e-01, -2.1653e-02,\n",
       "          1.4784e-01,  8.9193e-02,  6.5644e-02, -1.6349e-02,  3.1804e-02,\n",
       "          2.8998e-03, -1.7061e-01,  7.4070e-02,  1.1303e-02, -4.2566e-03,\n",
       "          3.4059e-02, -6.5159e-02, -6.5054e-02, -4.7305e-02,  1.8103e-02,\n",
       "          9.2893e-04, -3.1910e-02,  3.2781e-02, -1.1468e-01,  1.5989e-02,\n",
       "         -1.0266e-01,  2.0346e-02, -2.2882e-02,  6.4971e-02, -1.4016e-01,\n",
       "         -1.6411e-02,  9.4452e-02,  1.3531e-02,  7.1263e-02,  1.6231e-01,\n",
       "         -7.8049e-02, -1.5263e-01, -1.5149e-02, -8.4682e-02,  5.6489e-02,\n",
       "          5.3946e-02,  1.0737e-02, -1.1999e-01, -1.2835e-01,  1.0294e-01,\n",
       "          4.3422e-02, -8.3369e-03,  1.8597e-02,  1.2548e-01, -3.3757e-02,\n",
       "         -1.3527e-01,  6.5214e-02, -5.3711e-02, -2.7447e-01, -1.2882e-01,\n",
       "          1.5127e-03,  1.4319e-02,  2.5800e-02,  1.3552e-01,  1.8516e-01,\n",
       "          2.7286e-02, -5.7806e-02,  7.8619e-02, -1.5813e-01, -1.5024e-01,\n",
       "         -8.0385e-02, -3.2741e-01, -1.5614e-01,  4.5162e-02, -1.5969e-01,\n",
       "          1.5858e-01,  1.0533e-01,  9.9331e-02, -3.3537e-02, -3.6929e-02,\n",
       "         -7.2996e-02, -7.8112e-02, -1.3200e-01,  1.2793e-01, -3.3607e-02,\n",
       "          2.5318e-02,  1.0790e-01, -1.1653e-01, -9.9582e-02, -2.1569e-02,\n",
       "         -2.1958e-01, -4.5007e-02,  2.1372e-01,  1.0174e-01, -8.8015e-02,\n",
       "         -7.6338e-02,  1.1051e-01, -5.6353e-02,  5.6652e-02, -1.6218e-01,\n",
       "          3.2794e-02,  5.7120e-03,  3.7362e-02,  1.2465e-01,  6.5480e-02,\n",
       "         -6.4625e-02,  3.4995e-02,  6.7676e-02, -6.5615e-02,  1.2328e-01,\n",
       "         -4.8172e-02, -1.0590e-01,  1.5976e-01, -2.3862e-02,  1.0734e-02,\n",
       "          2.3887e-02,  1.9603e-01, -5.0523e-02, -1.5350e-01,  1.7203e-02,\n",
       "          5.5193e-03,  7.0633e-02,  1.4651e-01, -9.6161e-02,  2.0361e-01,\n",
       "          5.5427e-02,  1.1328e-01, -4.6429e-04, -7.8619e-02, -1.4239e-01,\n",
       "         -4.2046e-02,  1.1939e-01,  8.5687e-02, -1.7055e-02,  1.3648e-02,\n",
       "          6.9137e-02,  9.3057e-02,  2.0158e-02, -8.6633e-02, -9.5040e-02,\n",
       "         -1.2261e-01, -3.2009e-02,  1.5518e-01,  1.3595e-02,  2.1300e-01,\n",
       "         -4.0313e-02,  2.2968e-02, -8.2752e-02, -5.6684e-02, -1.9276e-01,\n",
       "          1.1558e-01, -1.5692e-01,  6.7868e-03, -1.3526e-01,  5.3220e-02,\n",
       "          1.0910e-02,  1.1340e-02, -1.7898e-01,  9.5985e-02,  2.6915e-02,\n",
       "         -3.5861e-02,  3.2607e-02,  3.7399e-02, -8.2174e-02,  5.2184e-02,\n",
       "         -7.6920e-02, -1.8982e-01, -8.6102e-02,  6.0581e-02, -8.2577e-02,\n",
       "          1.4810e-02, -3.0312e-02,  9.2817e-03, -3.8734e-02,  1.4106e-02,\n",
       "          1.0987e-01,  3.0067e-02,  3.3957e-02, -1.2640e-01, -8.3810e-02,\n",
       "         -1.0786e-01, -4.9056e-02,  9.6517e-02,  1.5059e-01,  1.2776e-01,\n",
       "          4.1887e-02,  4.4027e-02,  6.1631e-02, -1.0039e-02, -5.5983e-02,\n",
       "          3.9500e-02,  2.0468e-03,  4.6244e-02,  1.7205e-02,  7.7060e-02,\n",
       "          2.5581e-02,  1.1054e-02, -1.3522e-01,  1.8373e-01,  2.8221e-01,\n",
       "          3.4868e-02,  1.1141e-01, -1.0406e-02,  6.7473e-02, -8.1237e-02,\n",
       "         -8.6402e-02,  3.5156e-02,  9.0009e-02, -5.9257e-02,  2.6141e-01,\n",
       "         -1.1769e-01, -9.5942e-02,  1.5687e-02,  1.9031e-02,  1.6626e-01,\n",
       "          1.5590e-01, -1.4840e-02,  1.5874e-01,  4.8696e-02, -1.5136e-01,\n",
       "          3.1718e-03,  8.6643e-02,  4.7008e-02,  3.5450e-02,  1.6760e-01,\n",
       "          3.5769e-02, -1.0398e-01, -6.4638e-02, -9.2915e-04,  1.2968e-01,\n",
       "          2.0920e-03, -6.7849e-02,  3.0703e-03, -1.1518e-01, -9.6144e-02,\n",
       "         -1.3182e-01,  7.3834e-02,  2.5817e-02, -1.0781e-01, -3.5385e-02,\n",
       "         -6.3908e-02,  3.8100e-02, -1.5184e-02, -1.6560e-02,  2.8409e-02,\n",
       "         -1.5752e-02, -1.7220e-01, -2.6049e-02, -1.5105e-01, -5.2588e-02,\n",
       "          6.5251e-03, -1.2219e-03,  1.4615e-01,  5.6232e-02, -1.2117e-01,\n",
       "          9.3831e-02,  1.0525e-01,  2.8282e-02, -1.6678e-01,  1.1642e-02,\n",
       "          1.7145e-01,  1.1498e-01, -7.6983e-02,  5.6701e-02, -1.1459e-02,\n",
       "         -2.5098e-02,  3.9639e-02,  1.9789e-01, -8.4139e-02,  1.4817e-01,\n",
       "          1.8002e-01, -1.4110e-01, -1.3181e-01, -4.5953e-02, -1.5860e-01,\n",
       "         -2.6574e-02,  9.4500e-03, -5.1165e-03, -1.4117e-01, -8.7608e-02,\n",
       "          4.7178e-03,  8.0003e-02, -9.5398e-02,  3.8156e-02,  5.6198e-03,\n",
       "         -5.7407e-02,  1.0074e-01, -1.5392e-01, -5.6776e-02,  9.8715e-02,\n",
       "          4.4910e-02,  7.3349e-02, -1.2485e-02,  1.3513e-01, -1.3975e-03,\n",
       "         -1.2692e-01,  2.9853e-01, -1.2868e-01, -8.3223e-02, -3.9000e-02,\n",
       "          6.2463e-02, -1.8099e-02,  4.7290e-02, -2.5041e-02, -1.5075e-01,\n",
       "         -1.1292e-01,  1.4008e-02,  1.1154e-02,  8.1228e-02,  4.1238e-02,\n",
       "          3.5504e-02,  1.0522e-01,  7.9945e-02, -2.8140e-03, -4.0245e-02,\n",
       "          9.5557e-03, -1.1361e-01, -3.6037e-02,  1.5491e-02, -4.5542e-02,\n",
       "         -1.6756e-01, -7.9756e-02, -4.5565e-02, -9.3587e-02, -1.2301e-01,\n",
       "         -8.8987e-02,  2.5815e-01,  4.0960e-02, -1.4518e-01, -6.6169e-02,\n",
       "         -3.3750e-02, -2.4719e-02, -9.7094e-02,  1.6832e-01, -1.8643e-01,\n",
       "         -1.6698e-02,  5.5430e-02, -1.0154e-02, -2.6951e-01,  3.1630e-01,\n",
       "          6.4686e-02, -2.1944e-01,  1.7864e-01, -1.4185e-01,  1.5610e-01,\n",
       "         -2.0602e-03,  3.0654e-01,  4.6226e-02, -9.2261e-02, -7.3037e-02,\n",
       "          1.5467e-01,  5.2753e-02,  1.0849e-02, -5.2368e-02,  2.7120e-02,\n",
       "          2.1139e-02,  1.0519e-01,  6.1690e-03,  5.3151e-02,  3.7669e-02,\n",
       "          3.2735e-02, -4.7361e-02,  4.2136e-03,  3.0991e-02, -2.0866e-02,\n",
       "          1.3028e-01, -3.4413e-04, -3.7158e-02, -4.3969e-02,  9.4030e-02,\n",
       "         -8.7104e-02, -3.3738e-02,  2.1529e-02,  5.2095e-02,  6.8174e-02,\n",
       "          3.1243e-02,  4.9898e-02, -3.9191e-02,  1.9419e-02, -3.2155e-02,\n",
       "         -6.8048e-02, -1.6730e-01,  4.6512e-02, -1.0329e-01,  1.0188e-01,\n",
       "          3.8134e-02, -1.2363e-01, -1.5773e-01, -1.1986e-01,  2.2242e-01,\n",
       "         -1.5550e-01,  4.5321e-02,  1.0290e-02,  1.2282e-01, -6.3727e-02,\n",
       "          8.6573e-02,  5.7703e-02,  1.2957e-01,  1.4794e-02,  4.6408e-02,\n",
       "         -5.5831e-02,  8.6478e-02, -1.6214e-01,  2.9554e-03,  4.2488e-02,\n",
       "          2.5668e-01,  8.9323e-03, -2.5884e-01, -3.1474e-02, -6.1445e-03,\n",
       "          3.8820e-02, -6.8045e-02,  6.3008e-02,  4.9040e-02,  2.4304e-02,\n",
       "         -1.9330e-02,  1.3823e-01, -1.4710e-01,  1.4432e-01,  3.9248e-02,\n",
       "         -1.2826e-01, -8.4866e-02, -8.4389e-02,  3.1557e-02, -2.1252e-01,\n",
       "          2.7031e-01,  1.5829e-02,  1.6101e-02, -1.8284e-02, -7.8473e-02,\n",
       "         -3.8285e-03,  3.5690e-02,  1.1303e-02,  2.3357e-02,  1.1128e-01,\n",
       "          4.8861e-03, -1.8494e-02,  1.6494e-01,  3.6369e-02, -2.3688e-02,\n",
       "         -4.4796e-02,  3.6022e-02, -4.9426e-01, -4.1242e-02, -1.7837e-01,\n",
       "         -2.0228e-32, -8.6849e-03, -1.5476e-03,  4.0783e-02,  6.9445e-02,\n",
       "         -1.4891e-02,  1.2721e-01,  1.0163e-01,  2.7599e-02, -1.6252e-01,\n",
       "          1.3939e-02, -1.6759e-01, -9.7662e-02,  4.4855e-02,  1.2612e-01,\n",
       "         -1.8244e-03, -1.0738e-01,  3.9212e-02,  6.1183e-02,  1.5062e-02,\n",
       "          1.4630e-02,  1.3809e-03,  1.1153e-01, -8.9012e-02,  1.5782e-01,\n",
       "          5.4079e-02,  7.5080e-02, -1.1614e-01, -1.9405e-01, -3.0745e-02,\n",
       "         -7.3429e-03, -2.8686e-02,  8.9892e-02,  2.9926e-02, -5.9523e-03,\n",
       "         -6.3630e-03,  1.3799e-01, -5.2914e-02,  8.0635e-02, -1.0598e-01,\n",
       "         -2.3436e-02, -1.5004e-01, -1.2677e-01,  5.8629e-02, -1.3803e-02,\n",
       "         -2.6041e-02, -6.0175e-02,  1.8971e-01, -4.1861e-02, -1.2843e-01,\n",
       "          7.2733e-02,  1.2251e-01,  3.2178e-02, -4.8503e-03, -1.6201e-02,\n",
       "         -7.3247e-02,  1.1682e-01, -9.4698e-02,  8.6792e-02, -1.7809e-02,\n",
       "          7.5700e-02,  4.2879e-02,  3.4342e-03,  6.8114e-02,  3.3583e-02,\n",
       "          1.4412e-01,  6.8975e-02,  2.2947e-02, -5.3065e-02,  5.8771e-02,\n",
       "          7.4183e-02, -1.3447e-01,  1.2701e-01,  8.7352e-02, -1.0095e-01,\n",
       "         -4.1802e-02, -5.1286e-02,  1.3371e-01,  1.2447e-01, -8.3284e-02,\n",
       "         -2.0590e-01, -1.4239e-01, -9.3921e-02,  8.0907e-02, -3.0489e-02,\n",
       "          2.3241e-02,  4.3817e-02,  8.2514e-03, -1.0023e-01,  4.4548e-03,\n",
       "         -1.0615e-01, -8.3481e-02,  1.4437e-01, -3.2525e-02, -6.4872e-03,\n",
       "         -5.8751e-02, -2.7439e-01,  1.0594e-01,  4.6246e-02, -2.2009e-01,\n",
       "         -1.1461e-01, -1.8554e-02, -3.7757e-02, -6.2371e-02,  1.4243e-01,\n",
       "         -1.4022e-02, -9.0802e-02, -7.2229e-02, -1.9556e-02, -2.1196e-01,\n",
       "         -1.2040e-01, -7.2173e-02,  7.8960e-02, -4.7108e-02, -7.5504e-02,\n",
       "          8.0492e-02,  1.4149e-01,  2.7549e-02,  9.9280e-03, -4.3002e-02,\n",
       "          6.2294e-02, -4.0846e-02, -2.2153e-01, -1.2759e-01,  2.7185e-02,\n",
       "         -1.1081e-01,  9.5542e-02, -2.6937e-02,  9.8475e-02, -1.7523e-01,\n",
       "         -1.6290e-01, -6.9564e-02,  6.8953e-02,  6.7816e-07, -6.1161e-03,\n",
       "         -1.1554e-01,  5.4207e-02,  7.4180e-02, -4.8562e-02, -3.8667e-02,\n",
       "          6.3745e-02,  2.6395e-02,  7.7347e-02, -6.6931e-02,  1.6879e-02,\n",
       "         -1.1419e-01,  1.9017e-02,  5.3279e-03,  1.2676e-01,  3.0452e-02,\n",
       "         -1.8277e-01,  1.8933e-01,  2.2899e-03, -1.1060e-01,  1.4725e-01,\n",
       "          7.6029e-02,  2.1553e-02, -2.4182e-02, -3.5041e-02, -6.3825e-02,\n",
       "          1.0720e-02,  3.5223e-02,  2.0135e-02, -9.0190e-02, -8.7294e-02,\n",
       "         -1.9792e-02, -1.4149e-01,  6.0078e-02, -4.2168e-02, -6.1498e-02,\n",
       "          7.6080e-02, -4.7441e-02,  8.5707e-02,  2.0435e-01, -7.8976e-03,\n",
       "         -1.2471e-02, -1.1721e-01,  6.7152e-02,  1.3793e-01,  7.2358e-02,\n",
       "          4.8423e-02, -2.8889e-03,  6.4818e-02, -1.2329e-01, -3.7340e-02,\n",
       "          1.2243e-01,  7.6203e-02,  1.4517e-01, -3.1608e-02,  4.5017e-02,\n",
       "          1.4565e-01,  1.0791e-01, -9.9458e-02,  2.5753e-02,  1.2843e-01,\n",
       "          5.8745e-02,  2.7659e-02,  7.7050e-02,  3.1146e-02,  2.5649e-01,\n",
       "          2.4428e-04,  1.9388e-34, -1.0717e-01, -1.4488e-01,  8.0311e-02,\n",
       "          2.5629e-01,  3.1942e-02, -4.3101e-02,  5.1539e-02,  6.4657e-02,\n",
       "          1.4110e-02, -5.2525e-02, -9.7601e-02]], device='cuda:0')"
      ]
     },
     "execution_count": 4,
     "metadata": {},
     "output_type": "execute_result"
    }
   ],
   "source": [
    "em.get_embeddings(\"apple\")"
   ]
  },
  {
   "cell_type": "code",
   "execution_count": 31,
   "id": "a619a391-18ac-4403-bf87-277d599da084",
   "metadata": {},
   "outputs": [
    {
     "data": {
      "text/plain": [
       "[0.40115004777908325]"
      ]
     },
     "execution_count": 31,
     "metadata": {},
     "output_type": "execute_result"
    }
   ],
   "source": [
    "similarities = em.get_similarities(\n",
    "    em.get_embeddings([\"apple\"]),\n",
    "    em.get_embeddings([\"orange\"]),\n",
    ")\n",
    "similarities"
   ]
  },
  {
   "cell_type": "code",
   "execution_count": 32,
   "id": "2ebdad58-e94c-415c-b1ef-a59a44cbdf69",
   "metadata": {},
   "outputs": [
    {
     "data": {
      "text/plain": [
       "[0.31371933221817017]"
      ]
     },
     "execution_count": 32,
     "metadata": {},
     "output_type": "execute_result"
    }
   ],
   "source": [
    "similarities = em.get_similarities(\n",
    "    em.get_embeddings([\"apple\"]),\n",
    "    em.get_embeddings([\"car\"]),\n",
    ")\n",
    "similarities"
   ]
  },
  {
   "cell_type": "code",
   "execution_count": 35,
   "id": "e1a7857a-4dce-4026-aed3-fe3d0385d44b",
   "metadata": {},
   "outputs": [
    {
     "data": {
      "text/plain": [
       "[0.47539061307907104]"
      ]
     },
     "execution_count": 35,
     "metadata": {},
     "output_type": "execute_result"
    }
   ],
   "source": [
    "similarities = em.get_similarities(\n",
    "    em.get_embeddings([\"love\"]),\n",
    "    em.get_embeddings([\"hate\"]),\n",
    ")\n",
    "similarities"
   ]
  },
  {
   "cell_type": "markdown",
   "id": "a7df61b3-8824-4887-b220-06cb08a0fe98",
   "metadata": {},
   "source": [
    "# 2. Apply to LMSYS Arena data"
   ]
  },
  {
   "cell_type": "code",
   "execution_count": 39,
   "id": "93482356-0b61-428e-9a43-b1ceaa030f7e",
   "metadata": {},
   "outputs": [],
   "source": [
    "from datasets import load_dataset\n",
    "\n",
    "dataset = load_dataset(\"lmsys/chatbot_arena_conversations\")[\"train\"]"
   ]
  },
  {
   "cell_type": "code",
   "execution_count": 40,
   "id": "d45714c6-2898-433a-af91-7ea6a9c103bc",
   "metadata": {},
   "outputs": [
    {
     "data": {
      "text/plain": [
       "Dataset({\n",
       "    features: ['question_id', 'model_a', 'model_b', 'winner', 'judge', 'conversation_a', 'conversation_b', 'turn', 'anony', 'language', 'tstamp', 'openai_moderation', 'toxic_chat_tag'],\n",
       "    num_rows: 33000\n",
       "})"
      ]
     },
     "execution_count": 40,
     "metadata": {},
     "output_type": "execute_result"
    }
   ],
   "source": [
    "dataset"
   ]
  },
  {
   "cell_type": "code",
   "execution_count": 41,
   "id": "46854b41-df58-4061-a555-964a4b18ddbe",
   "metadata": {},
   "outputs": [
    {
     "data": {
      "text/plain": [
       "{'question_id': '58210e39b3fd4441a2bd4a518bb44c2d',\n",
       " 'model_a': 'chatglm-6b',\n",
       " 'model_b': 'koala-13b',\n",
       " 'winner': 'model_b',\n",
       " 'judge': 'arena_user_973',\n",
       " 'conversation_a': [{'content': 'What is the difference between OpenCL and CUDA?',\n",
       "   'role': 'user'},\n",
       "  {'content': 'OpenCL and CUDA are two different programming models that are used for parallel computing.OpenCL is a general-purpose并行编程接口 that allows developers to write parallel code that can run on any platform that supportsCL, which includes most modern operating systems and computer systems, including Windows, Linux, and macOS. It provides a lower-level, more flexible API that is more suitable for building large-scale distributed computing systems.CUDA is a specific implementation ofOpenCL that is designed for performance and scalability in devices with multiple GPU(s). It was developed by Nvidia and is widely used for scientific computing, machine learning, and图形图像处理. The CUDA API provides a high-level, more efficient way to write parallel code that can run on top of a GPU, while still maintaining the ability to write code that can be easily adapted for other parallel computing platforms.',\n",
       "   'role': 'assistant'}],\n",
       " 'conversation_b': [{'content': 'What is the difference between OpenCL and CUDA?',\n",
       "   'role': 'user'},\n",
       "  {'content': 'OpenCL and CUDA are both programming languages for parallel computing on GPUs, but they differ in several key ways:\\n\\n1.   Architecture: OpenCL is a general-purpose parallel computing language, while CUDA is designed specifically for GPU computing. OpenCL can run on various types of processors, including CPUs, GPUs, and FPGAs, whereas CUDA is only compatible with NVIDIA GPUs.\\n2.   Language: OpenCL is a C++ language, while CUDA is a C++ language with additional features for GPU computing. CUDA provides additional libraries and tools for handling graphics and other tasks unique to GPUs.\\n3.   Driver support: OpenCL has a wider range of device support, with support for not just NVIDIA GPUs but also other manufacturers like AMD, Intel, and ARM. CUDA is only available on NVIDIA GPUs, and requires the CUDA Toolkit to be installed on the host machine.\\n4.   Memory management: OpenCL provides a unified memory model, where all the data is stored in global memory, and the kernel can access any part of it. CUDA, on the other hand, uses a hierarchical memory architecture, where data is divided into host, device, and shared memory.\\n5.   Performance: OpenCL and CUDA have different strengths and weaknesses in terms of performance. OpenCL is generally faster for numerical computations, while CUDA is faster for graphics and other tasks that require fast memory access. CUDA also has better support for 64-bit floating-point operations, which are essential for some scientific applications.\\n\\nIn summary, OpenCL and CUDA are both programming languages for parallel computing on GPUs, but they differ in terms of architecture, language, driver support, memory management, and performance. OpenCL is a general-purpose language that can run on various types of processors, while CUDA is specific to NVIDIA GPUs and provides additional libraries and tools for handling graphics and other tasks unique to GPUs.',\n",
       "   'role': 'assistant'}],\n",
       " 'turn': 1,\n",
       " 'anony': True,\n",
       " 'language': 'English',\n",
       " 'tstamp': 1682351591.1322,\n",
       " 'openai_moderation': {'categories': {'harassment': False,\n",
       "   'harassment/threatening': False,\n",
       "   'hate': False,\n",
       "   'hate/threatening': False,\n",
       "   'self-harm': False,\n",
       "   'self-harm/instructions': False,\n",
       "   'self-harm/intent': False,\n",
       "   'sexual': False,\n",
       "   'sexual/minors': False,\n",
       "   'violence': False,\n",
       "   'violence/graphic': False},\n",
       "  'category_scores': {'harassment': 2.8765102e-05,\n",
       "   'harassment/threatening': 5.663866e-07,\n",
       "   'hate': 5.574919e-06,\n",
       "   'hate/threatening': 2.3965333e-08,\n",
       "   'self-harm': 5.1901172e-09,\n",
       "   'self-harm/instructions': 1.1517327e-08,\n",
       "   'self-harm/intent': 3.9070875e-09,\n",
       "   'sexual': 4.381485e-06,\n",
       "   'sexual/minors': 5.541973e-08,\n",
       "   'violence': 2.2985896e-06,\n",
       "   'violence/graphic': 4.8212314e-07},\n",
       "  'flagged': False},\n",
       " 'toxic_chat_tag': {'roberta-large': {'flagged': False,\n",
       "   'probability': 0.008313022553920746},\n",
       "  't5-large': {'flagged': False, 'score': 7.943665219245499e-05}}}"
      ]
     },
     "execution_count": 41,
     "metadata": {},
     "output_type": "execute_result"
    }
   ],
   "source": [
    "dataset[0]"
   ]
  },
  {
   "cell_type": "code",
   "execution_count": 65,
   "id": "2ee31c23-12e2-4663-9a4f-079113ce9898",
   "metadata": {},
   "outputs": [
    {
     "name": "stderr",
     "output_type": "stream",
     "text": [
      " 14%|█████▎                               | 4737/33000 [00:06<00:36, 783.11it/s]"
     ]
    },
    {
     "data": {
      "text/plain": [
       "'vicuna-13b'"
      ]
     },
     "metadata": {},
     "output_type": "display_data"
    },
    {
     "data": {
      "text/plain": [
       "'oasst-pythia-12b'"
      ]
     },
     "metadata": {},
     "output_type": "display_data"
    },
    {
     "data": {
      "text/plain": [
       "'koala-13b'"
      ]
     },
     "metadata": {},
     "output_type": "display_data"
    },
    {
     "data": {
      "text/plain": [
       "'gpt-3.5-turbo'"
      ]
     },
     "metadata": {},
     "output_type": "display_data"
    },
    {
     "name": "stderr",
     "output_type": "stream",
     "text": [
      " 15%|█████▍                               | 4817/33000 [00:06<00:42, 660.40it/s]"
     ]
    },
    {
     "data": {
      "text/plain": [
       "'llama-13b'"
      ]
     },
     "metadata": {},
     "output_type": "display_data"
    },
    {
     "data": {
      "text/plain": [
       "'fastchat-t5-3b'"
      ]
     },
     "metadata": {},
     "output_type": "display_data"
    },
    {
     "data": {
      "text/plain": [
       "'chatglm-6b'"
      ]
     },
     "metadata": {},
     "output_type": "display_data"
    },
    {
     "data": {
      "text/plain": [
       "'dolly-v2-12b'"
      ]
     },
     "metadata": {},
     "output_type": "display_data"
    },
    {
     "data": {
      "text/plain": [
       "'stablelm-tuned-alpha-7b'"
      ]
     },
     "metadata": {},
     "output_type": "display_data"
    },
    {
     "data": {
      "text/plain": [
       "'alpaca-13b'"
      ]
     },
     "metadata": {},
     "output_type": "display_data"
    },
    {
     "name": "stderr",
     "output_type": "stream",
     "text": [
      " 18%|██████▌                              | 5836/33000 [00:08<00:48, 563.24it/s]"
     ]
    },
    {
     "data": {
      "text/plain": [
       "'claude-v1'"
      ]
     },
     "metadata": {},
     "output_type": "display_data"
    },
    {
     "data": {
      "text/plain": [
       "'RWKV-4-Raven-14B'"
      ]
     },
     "metadata": {},
     "output_type": "display_data"
    },
    {
     "name": "stderr",
     "output_type": "stream",
     "text": [
      " 33%|███████████▉                        | 10947/33000 [00:15<00:33, 664.84it/s]"
     ]
    },
    {
     "data": {
      "text/plain": [
       "'mpt-7b-chat'"
      ]
     },
     "metadata": {},
     "output_type": "display_data"
    },
    {
     "name": "stderr",
     "output_type": "stream",
     "text": [
      " 44%|███████████████▋                    | 14395/33000 [00:19<00:24, 745.67it/s]"
     ]
    },
    {
     "data": {
      "text/plain": [
       "'palm-2'"
      ]
     },
     "metadata": {},
     "output_type": "display_data"
    },
    {
     "name": "stderr",
     "output_type": "stream",
     "text": [
      " 59%|█████████████████████               | 19329/33000 [00:26<00:20, 680.77it/s]"
     ]
    },
    {
     "data": {
      "text/plain": [
       "'vicuna-7b'"
      ]
     },
     "metadata": {},
     "output_type": "display_data"
    },
    {
     "name": "stderr",
     "output_type": "stream",
     "text": [
      " 59%|█████████████████████▎              | 19503/33000 [00:26<00:18, 731.90it/s]"
     ]
    },
    {
     "data": {
      "text/plain": [
       "'claude-instant-v1'"
      ]
     },
     "metadata": {},
     "output_type": "display_data"
    },
    {
     "name": "stderr",
     "output_type": "stream",
     "text": [
      " 88%|███████████████████████████████▌    | 28887/33000 [00:40<00:05, 711.07it/s]"
     ]
    },
    {
     "data": {
      "text/plain": [
       "'gpt4all-13b-snoozy'"
      ]
     },
     "metadata": {},
     "output_type": "display_data"
    },
    {
     "name": "stderr",
     "output_type": "stream",
     "text": [
      " 88%|███████████████████████████████▌    | 28962/33000 [00:40<00:05, 718.38it/s]"
     ]
    },
    {
     "data": {
      "text/plain": [
       "'wizardlm-13b'"
      ]
     },
     "metadata": {},
     "output_type": "display_data"
    },
    {
     "name": "stderr",
     "output_type": "stream",
     "text": [
      " 88%|███████████████████████████████▋    | 29059/33000 [00:40<00:05, 787.45it/s]"
     ]
    },
    {
     "data": {
      "text/plain": [
       "'guanaco-33b'"
      ]
     },
     "metadata": {},
     "output_type": "display_data"
    },
    {
     "name": "stderr",
     "output_type": "stream",
     "text": [
      "100%|████████████████████████████████████| 33000/33000 [00:45<00:00, 720.72it/s]\n"
     ]
    }
   ],
   "source": [
    "from tqdm import tqdm \n",
    "\n",
    "reference_model=\"gpt-4\"\n",
    "answers={}\n",
    "\n",
    "for judgement in tqdm(dataset):\n",
    "    if not reference_model in judgement[\"model_a\"]+judgement[\"model_b\"]: continue   \n",
    "    model_ref=\"a\" if judgement[\"model_a\"] == reference_model else \"b\"\n",
    "    model_other=\"b\" if model_ref == \"a\" else \"a\"\n",
    "\n",
    "    answers_ref = [ msg[\"content\"] for msg in judgement[f\"conversation_{model_ref}\"] if msg[\"role\"]==\"assistant\" ] \n",
    "    answers_other = [ msg[\"content\"] for msg in judgement[f\"conversation_{model_other}\"] if msg[\"role\"]==\"assistant\" ] \n",
    "\n",
    "    model=judgement[f\"model_{model_other}\"]\n",
    "    if not model in answers:\n",
    "        display(model)\n",
    "        answers[model]=dict(answers_model=[], answers_ref=[])\n",
    "\n",
    "    answers[model][\"answers_model\"].extend(answers_other)\n",
    "    answers[model][\"answers_ref\"].extend(answers_ref)\n",
    "    "
   ]
  },
  {
   "cell_type": "code",
   "execution_count": 67,
   "id": "179a0901-8534-4c75-a533-ee409930a237",
   "metadata": {},
   "outputs": [
    {
     "name": "stdout",
     "output_type": "stream",
     "text": [
      "vicuna-13b 448 answers\n",
      "oasst-pythia-12b 395 answers\n",
      "koala-13b 417 answers\n",
      "gpt-3.5-turbo 436 answers\n",
      "llama-13b 117 answers\n",
      "fastchat-t5-3b 258 answers\n",
      "chatglm-6b 266 answers\n",
      "dolly-v2-12b 193 answers\n",
      "stablelm-tuned-alpha-7b 225 answers\n",
      "alpaca-13b 290 answers\n",
      "claude-v1 366 answers\n",
      "RWKV-4-Raven-14B 346 answers\n",
      "mpt-7b-chat 258 answers\n",
      "palm-2 247 answers\n",
      "vicuna-7b 249 answers\n",
      "claude-instant-v1 191 answers\n",
      "gpt4all-13b-snoozy 80 answers\n",
      "wizardlm-13b 73 answers\n",
      "guanaco-33b 90 answers\n"
     ]
    }
   ],
   "source": [
    "models=list(answers.keys())\n",
    "\n",
    "for model in models:\n",
    "    print(model, len(answers[model][\"answers_model\"]), \"answers\")"
   ]
  },
  {
   "cell_type": "code",
   "execution_count": 70,
   "id": "96c382b0-abb6-44fc-98cf-a1d0c67b3e0d",
   "metadata": {},
   "outputs": [
    {
     "name": "stderr",
     "output_type": "stream",
     "text": [
      "  5%|██▎                                         | 1/19 [00:15<04:41, 15.66s/it]"
     ]
    },
    {
     "name": "stdout",
     "output_type": "stream",
     "text": [
      "vicuna-13b 0.8578882217407227\n"
     ]
    },
    {
     "name": "stderr",
     "output_type": "stream",
     "text": [
      " 11%|████▋                                       | 2/19 [00:30<04:18, 15.20s/it]"
     ]
    },
    {
     "name": "stdout",
     "output_type": "stream",
     "text": [
      "oasst-pythia-12b 0.47900500893592834\n"
     ]
    },
    {
     "name": "stderr",
     "output_type": "stream",
     "text": [
      " 16%|██████▉                                     | 3/19 [00:45<04:04, 15.28s/it]"
     ]
    },
    {
     "name": "stdout",
     "output_type": "stream",
     "text": [
      "koala-13b 0.8484880924224854\n"
     ]
    },
    {
     "name": "stderr",
     "output_type": "stream",
     "text": [
      " 21%|█████████▎                                  | 4/19 [01:01<03:49, 15.28s/it]"
     ]
    },
    {
     "name": "stdout",
     "output_type": "stream",
     "text": [
      "gpt-3.5-turbo 0.8834269046783447\n"
     ]
    },
    {
     "name": "stderr",
     "output_type": "stream",
     "text": [
      " 26%|███████████▌                                | 5/19 [01:05<02:36, 11.16s/it]"
     ]
    },
    {
     "name": "stdout",
     "output_type": "stream",
     "text": [
      "llama-13b 0.45220327377319336\n"
     ]
    },
    {
     "name": "stderr",
     "output_type": "stream",
     "text": [
      " 32%|█████████████▉                              | 6/19 [01:14<02:15, 10.44s/it]"
     ]
    },
    {
     "name": "stdout",
     "output_type": "stream",
     "text": [
      "fastchat-t5-3b 0.6493669748306274\n"
     ]
    },
    {
     "name": "stderr",
     "output_type": "stream",
     "text": [
      " 37%|████████████████▏                           | 7/19 [01:23<02:01, 10.16s/it]"
     ]
    },
    {
     "name": "stdout",
     "output_type": "stream",
     "text": [
      "chatglm-6b 0.5579537153244019\n"
     ]
    },
    {
     "name": "stderr",
     "output_type": "stream",
     "text": [
      " 42%|██████████████████▌                         | 8/19 [01:30<01:39,  9.00s/it]"
     ]
    },
    {
     "name": "stdout",
     "output_type": "stream",
     "text": [
      "dolly-v2-12b 0.745858907699585\n"
     ]
    },
    {
     "name": "stderr",
     "output_type": "stream",
     "text": [
      " 47%|████████████████████▊                       | 9/19 [01:38<01:27,  8.75s/it]"
     ]
    },
    {
     "name": "stdout",
     "output_type": "stream",
     "text": [
      "stablelm-tuned-alpha-7b 0.7293763160705566\n"
     ]
    },
    {
     "name": "stderr",
     "output_type": "stream",
     "text": [
      " 53%|██████████████████████▋                    | 10/19 [01:47<01:19,  8.84s/it]"
     ]
    },
    {
     "name": "stdout",
     "output_type": "stream",
     "text": [
      "alpaca-13b 0.7523584365844727\n"
     ]
    },
    {
     "name": "stderr",
     "output_type": "stream",
     "text": [
      " 58%|████████████████████████▉                  | 11/19 [02:01<01:22, 10.33s/it]"
     ]
    },
    {
     "name": "stdout",
     "output_type": "stream",
     "text": [
      "claude-v1 0.8397925496101379\n"
     ]
    },
    {
     "name": "stderr",
     "output_type": "stream",
     "text": [
      " 63%|███████████████████████████▏               | 12/19 [02:13<01:16, 10.89s/it]"
     ]
    },
    {
     "name": "stdout",
     "output_type": "stream",
     "text": [
      "RWKV-4-Raven-14B 0.7650090456008911\n"
     ]
    },
    {
     "name": "stderr",
     "output_type": "stream",
     "text": [
      " 68%|█████████████████████████████▍             | 13/19 [02:22<01:01, 10.24s/it]"
     ]
    },
    {
     "name": "stdout",
     "output_type": "stream",
     "text": [
      "mpt-7b-chat 0.5898827910423279\n"
     ]
    },
    {
     "name": "stderr",
     "output_type": "stream",
     "text": [
      " 74%|███████████████████████████████▋           | 14/19 [02:31<00:49,  9.95s/it]"
     ]
    },
    {
     "name": "stdout",
     "output_type": "stream",
     "text": [
      "palm-2 0.3190893530845642\n"
     ]
    },
    {
     "name": "stderr",
     "output_type": "stream",
     "text": [
      " 79%|█████████████████████████████████▉         | 15/19 [02:40<00:38,  9.63s/it]"
     ]
    },
    {
     "name": "stdout",
     "output_type": "stream",
     "text": [
      "vicuna-7b 0.7728925943374634\n"
     ]
    },
    {
     "name": "stderr",
     "output_type": "stream",
     "text": [
      " 84%|████████████████████████████████████▏      | 16/19 [02:47<00:26,  8.86s/it]"
     ]
    },
    {
     "name": "stdout",
     "output_type": "stream",
     "text": [
      "claude-instant-v1 0.6077674627304077\n"
     ]
    },
    {
     "name": "stderr",
     "output_type": "stream",
     "text": [
      " 89%|██████████████████████████████████████▍    | 17/19 [02:49<00:13,  6.97s/it]"
     ]
    },
    {
     "name": "stdout",
     "output_type": "stream",
     "text": [
      "gpt4all-13b-snoozy 0.26017242670059204\n"
     ]
    },
    {
     "name": "stderr",
     "output_type": "stream",
     "text": [
      " 95%|████████████████████████████████████████▋  | 18/19 [02:52<00:05,  5.79s/it]"
     ]
    },
    {
     "name": "stdout",
     "output_type": "stream",
     "text": [
      "wizardlm-13b 0.9506160020828247\n"
     ]
    },
    {
     "name": "stderr",
     "output_type": "stream",
     "text": [
      "100%|███████████████████████████████████████████| 19/19 [02:56<00:00,  9.28s/it]"
     ]
    },
    {
     "name": "stdout",
     "output_type": "stream",
     "text": [
      "guanaco-33b 0.7739665508270264\n"
     ]
    },
    {
     "name": "stderr",
     "output_type": "stream",
     "text": [
      "\n"
     ]
    }
   ],
   "source": [
    "from statistics import mean\n",
    "\n",
    "models_similarities=[]\n",
    "\n",
    "for model in tqdm(models):\n",
    "    similarities = em.get_similarities(\n",
    "        em.get_embeddings(answers[model][\"answers_model\"]),\n",
    "        em.get_embeddings(answers[model][\"answers_ref\"]),\n",
    "    )\n",
    "    models_similarities.append( mean(similarities) )\n",
    "    print( model, similarities[-1] )"
   ]
  },
  {
   "cell_type": "code",
   "execution_count": 75,
   "id": "330a5eee-a51f-4161-a4c6-2856bb23766b",
   "metadata": {},
   "outputs": [
    {
     "name": "stdout",
     "output_type": "stream",
     "text": [
      "wizardlm-13b 0.8138260962824299\n",
      "claude-v1 0.8011753687054896\n",
      "gpt-3.5-turbo 0.7997970185584363\n",
      "claude-instant-v1 0.7739336014340061\n",
      "vicuna-13b 0.7696723944391124\n",
      "guanaco-33b 0.7652262987362014\n",
      "vicuna-7b 0.740021856254842\n",
      "koala-13b 0.7112154742921714\n",
      "fastchat-t5-3b 0.7092030091398909\n",
      "gpt4all-13b-snoozy 0.7083628309424966\n",
      "mpt-7b-chat 0.7058982313033049\n",
      "alpaca-13b 0.6989613604442827\n",
      "chatglm-6b 0.6951124396322197\n",
      "RWKV-4-Raven-14B 0.6907683522198241\n",
      "oasst-pythia-12b 0.6675865416709758\n",
      "palm-2 0.6627612474717592\n",
      "stablelm-tuned-alpha-7b 0.6604965678188536\n",
      "dolly-v2-12b 0.6023693506272964\n",
      "llama-13b 0.5296028090967263\n"
     ]
    }
   ],
   "source": [
    "sorted_indices = sorted(range(len(models_similarities)), key=lambda index: models_similarities[index], reverse=True)\n",
    "\n",
    "for i in sorted_indices:\n",
    "    print(models[i], models_similarities[i])"
   ]
  },
  {
   "cell_type": "code",
   "execution_count": 77,
   "id": "f89f4d0b-1537-4fe8-a14b-f8f362ec8ea4",
   "metadata": {},
   "outputs": [],
   "source": [
    "elo_ratings_raw = \\\n",
    "\"\"\"1\tgpt-4-turbo\t1250\n",
    "2\tbard-jan-24-gemini-pro\t1214\n",
    "3\tgpt-4-0314\t1189\n",
    "4\tgpt-4-0613\t1161\n",
    "5\tmistral-medium\t1150\n",
    "6\tclaude-1\t1150\n",
    "7\tclaude-2.0\t1131\n",
    "8\tmixtral-8x7b-instruct-v0.1\t1122\n",
    "9\tgemini-pro-dev-api\t1122\n",
    "10\tclaude-2.1\t1119\n",
    "11\tgpt-3.5-turbo-0613\t1117\n",
    "12\tgemini-pro\t1114\n",
    "13\tyi-34b-chat\t1112\n",
    "14\tclaude-instant-1\t1110\n",
    "15\twizardlm-70b\t1106\n",
    "16\ttulu-2-dpo-70b\t1105\n",
    "17\tgpt-3.5-turbo-0314\t1104\n",
    "18\tdeepseek-llm-67b-chat\t1099\n",
    "19\tvicuna-33b\t1094\n",
    "20\tstarling-lm-7b-alpha\t1089\n",
    "21\tllama-2-70b-chat\t1081\n",
    "22\tllama2-70b-steerlm-chat\t1078\n",
    "23\topenchat-3.5\t1077\n",
    "24\topenhermes-2.5-mistral-7b\t1076\n",
    "25\tpplx-70b-online\t1074\n",
    "26\tgpt-3.5-turbo-1106\t1072\n",
    "27\tsolar-10.7b-instruct-v1.0\t1065\n",
    "28\tdolphin-2.2.1-mistral-7b\t1064\n",
    "29\twizardlm-13b\t1058\n",
    "30\tzephyr-7b-beta\t1050\n",
    "31\tmpt-30b-chat\t1043\n",
    "32\tcodellama-34b-instruct\t1042\n",
    "33\tvicuna-13b\t1040\n",
    "34\tllama-2-13b-chat\t1039\n",
    "35\tzephyr-7b-alpha\t1037\n",
    "36\tpplx-7b-online\t1036\n",
    "37\tqwen-14b-chat\t1034\n",
    "38\tfalcon-180b-chat\t1032\n",
    "39\tguanaco-33b\t1031\n",
    "40\tllama-2-7b-chat\t1021\n",
    "41\tstripedhyena-nous-7b\t1017\n",
    "42\tmistral-7b-instruct\t1010\n",
    "43\tpalm-2\t1005\n",
    "44\tvicuna-7b\t1005\n",
    "45\tkoala-13b\t965\n",
    "46\tchatglm3-6b\t960\n",
    "47\tgpt4all-13b-snoozy\t937\n",
    "48\tmpt-7b-chat\t930\n",
    "49\tchatglm2-6b\t929\n",
    "50\tRWKV-4-Raven-14B\t924\n",
    "51\talpaca-13b\t904\n",
    "52\toasst-pythia-12b\t896\n",
    "53\tchatglm-6b\t883\n",
    "54\tfastchat-t5-3b\t874\n",
    "55\tstablelm-tuned-alpha-7b\t844\n",
    "56\tdolly-v2-12b\t822\n",
    "57\tllama-13b\t800\"\"\""
   ]
  },
  {
   "cell_type": "code",
   "execution_count": 80,
   "id": "6645d1fd-f6dd-4e21-ab72-f554da4cb1b7",
   "metadata": {},
   "outputs": [],
   "source": [
    "elo_ratings={}\n",
    "\n",
    "for line in elo_ratings_raw.split(\"\\n\"):\n",
    "    line_split=line.split(\"\\t\")\n",
    "    model=line_split[1]\n",
    "    elo=line_split[2]\n",
    "    elo_ratings[model]=elo"
   ]
  },
  {
   "cell_type": "code",
   "execution_count": 81,
   "id": "202cb138-6743-40cf-9ad7-dd27a0e8ad92",
   "metadata": {},
   "outputs": [
    {
     "data": {
      "text/plain": [
       "{'gpt-4-turbo': '1250',\n",
       " 'bard-jan-24-gemini-pro': '1214',\n",
       " 'gpt-4-0314': '1189',\n",
       " 'gpt-4-0613': '1161',\n",
       " 'mistral-medium': '1150',\n",
       " 'claude-1': '1150',\n",
       " 'claude-2.0': '1131',\n",
       " 'mixtral-8x7b-instruct-v0.1': '1122',\n",
       " 'gemini-pro-dev-api': '1122',\n",
       " 'claude-2.1': '1119',\n",
       " 'gpt-3.5-turbo-0613': '1117',\n",
       " 'gemini-pro': '1114',\n",
       " 'yi-34b-chat': '1112',\n",
       " 'claude-instant-1': '1110',\n",
       " 'wizardlm-70b': '1106',\n",
       " 'tulu-2-dpo-70b': '1105',\n",
       " 'gpt-3.5-turbo-0314': '1104',\n",
       " 'deepseek-llm-67b-chat': '1099',\n",
       " 'vicuna-33b': '1094',\n",
       " 'starling-lm-7b-alpha': '1089',\n",
       " 'llama-2-70b-chat': '1081',\n",
       " 'llama2-70b-steerlm-chat': '1078',\n",
       " 'openchat-3.5': '1077',\n",
       " 'openhermes-2.5-mistral-7b': '1076',\n",
       " 'pplx-70b-online': '1074',\n",
       " 'gpt-3.5-turbo-1106': '1072',\n",
       " 'solar-10.7b-instruct-v1.0': '1065',\n",
       " 'dolphin-2.2.1-mistral-7b': '1064',\n",
       " 'wizardlm-13b': '1058',\n",
       " 'zephyr-7b-beta': '1050',\n",
       " 'mpt-30b-chat': '1043',\n",
       " 'codellama-34b-instruct': '1042',\n",
       " 'vicuna-13b': '1040',\n",
       " 'llama-2-13b-chat': '1039',\n",
       " 'zephyr-7b-alpha': '1037',\n",
       " 'pplx-7b-online': '1036',\n",
       " 'qwen-14b-chat': '1034',\n",
       " 'falcon-180b-chat': '1032',\n",
       " 'guanaco-33b': '1031',\n",
       " 'llama-2-7b-chat': '1021',\n",
       " 'stripedhyena-nous-7b': '1017',\n",
       " 'mistral-7b-instruct': '1010',\n",
       " 'palm-2': '1005',\n",
       " 'vicuna-7b': '1005',\n",
       " 'koala-13b': '965',\n",
       " 'chatglm3-6b': '960',\n",
       " 'gpt4all-13b-snoozy': '937',\n",
       " 'mpt-7b-chat': '930',\n",
       " 'chatglm2-6b': '929',\n",
       " 'RWKV-4-Raven-14B': '924',\n",
       " 'alpaca-13b': '904',\n",
       " 'oasst-pythia-12b': '896',\n",
       " 'chatglm-6b': '883',\n",
       " 'fastchat-t5-3b': '874',\n",
       " 'stablelm-tuned-alpha-7b': '844',\n",
       " 'dolly-v2-12b': '822',\n",
       " 'llama-13b': '800'}"
      ]
     },
     "execution_count": 81,
     "metadata": {},
     "output_type": "execute_result"
    }
   ],
   "source": [
    "elo_ratings"
   ]
  },
  {
   "cell_type": "code",
   "execution_count": 92,
   "id": "c25d881e-2e0e-499d-bd35-dcd0152f5358",
   "metadata": {},
   "outputs": [],
   "source": [
    "sorted_indices = sorted(range(len(models_similarities)), key=lambda index: models_similarities[index], reverse=True)\n",
    "\n",
    "model_map_elo = {\n",
    "    \"claude-v1\": \"claude-1\",\n",
    "    \"gpt-3.5-turbo\": \"gpt-3.5-turbo-0613\",\n",
    "    \"claude-instant-v1\": \"claude-instant-1\"\n",
    "}\n",
    "model_elo=[]\n",
    "for model in models:\n",
    "    model_elo_name=model if not model in model_map_elo else model_map_elo[model]\n",
    "    elo=elo_ratings[model_elo_name] if model_elo_name in elo_ratings else None\n",
    "    model_elo.append(int(elo))"
   ]
  },
  {
   "cell_type": "code",
   "execution_count": 93,
   "id": "653705fe-9483-422a-90d1-7ba38cfa5c2b",
   "metadata": {},
   "outputs": [
    {
     "name": "stdout",
     "output_type": "stream",
     "text": [
      "wizardlm-13b 0.8138260962824299 1058\n",
      "claude-v1 0.8011753687054896 1150\n",
      "gpt-3.5-turbo 0.7997970185584363 1117\n",
      "claude-instant-v1 0.7739336014340061 1110\n",
      "vicuna-13b 0.7696723944391124 1040\n",
      "guanaco-33b 0.7652262987362014 1031\n",
      "vicuna-7b 0.740021856254842 1005\n",
      "koala-13b 0.7112154742921714 965\n",
      "fastchat-t5-3b 0.7092030091398909 874\n",
      "gpt4all-13b-snoozy 0.7083628309424966 937\n",
      "mpt-7b-chat 0.7058982313033049 930\n",
      "alpaca-13b 0.6989613604442827 904\n",
      "chatglm-6b 0.6951124396322197 883\n",
      "RWKV-4-Raven-14B 0.6907683522198241 924\n",
      "oasst-pythia-12b 0.6675865416709758 896\n",
      "palm-2 0.6627612474717592 1005\n",
      "stablelm-tuned-alpha-7b 0.6604965678188536 844\n",
      "dolly-v2-12b 0.6023693506272964 822\n",
      "llama-13b 0.5296028090967263 800\n"
     ]
    }
   ],
   "source": [
    "sorted_indices = sorted(range(len(models_similarities)), key=lambda index: models_similarities[index], reverse=True)\n",
    "\n",
    "for i in sorted_indices:\n",
    "    print(models[i], models_similarities[i], model_elo[i])"
   ]
  },
  {
   "cell_type": "code",
   "execution_count": 127,
   "id": "0263d81e-9b8d-4d54-8e1d-67900f8263ea",
   "metadata": {},
   "outputs": [
    {
     "data": {
      "image/png": "[encoded data removed]",
      "text/plain": [
       "<Figure size 640x480 with 1 Axes>"
      ]
     },
     "metadata": {},
     "output_type": "display_data"
    }
   ],
   "source": [
    "import matplotlib.pyplot as plt\n",
    "\n",
    "plt.scatter(models_similarities, model_elo)\n",
    "\n",
    "plt.xlabel('semscore (=avg. similarity of model answers vs gpt4-answers in dataset lmsys/chatbot_arena_conversations)')\n",
    "plt.ylabel('ELO rating')\n",
    "\n",
    "for i, model in enumerate(models):\n",
    "    plt.text(models_similarities[i], model_elo[i], model, fontsize=9, ha='right', va='bottom')\n",
    "\n",
    "plt.show()\n"
   ]
  },
  {
   "cell_type": "code",
   "execution_count": 119,
   "id": "a7092a5d-d8fd-4791-8ff5-0bcdb63d3f63",
   "metadata": {},
   "outputs": [
    {
     "data": {
      "text/html": [
       "<div>\n",
       "<style scoped>\n",
       "    .dataframe tbody tr th:only-of-type {\n",
       "        vertical-align: middle;\n",
       "    }\n",
       "\n",
       "    .dataframe tbody tr th {\n",
       "        vertical-align: top;\n",
       "    }\n",
       "\n",
       "    .dataframe thead th {\n",
       "        text-align: right;\n",
       "    }\n",
       "</style>\n",
       "<table border=\"1\" class=\"dataframe\">\n",
       "  <thead>\n",
       "    <tr style=\"text-align: right;\">\n",
       "      <th></th>\n",
       "      <th>Model</th>\n",
       "      <th>sim</th>\n",
       "      <th>elo</th>\n",
       "      <th>rank_sim</th>\n",
       "      <th>rank_elo</th>\n",
       "    </tr>\n",
       "  </thead>\n",
       "  <tbody>\n",
       "    <tr>\n",
       "      <th>10</th>\n",
       "      <td>claude-v1</td>\n",
       "      <td>0.801175</td>\n",
       "      <td>1150</td>\n",
       "      <td>2</td>\n",
       "      <td>1</td>\n",
       "    </tr>\n",
       "    <tr>\n",
       "      <th>3</th>\n",
       "      <td>gpt-3.5-turbo</td>\n",
       "      <td>0.799797</td>\n",
       "      <td>1117</td>\n",
       "      <td>3</td>\n",
       "      <td>2</td>\n",
       "    </tr>\n",
       "    <tr>\n",
       "      <th>15</th>\n",
       "      <td>claude-instant-v1</td>\n",
       "      <td>0.773934</td>\n",
       "      <td>1110</td>\n",
       "      <td>4</td>\n",
       "      <td>3</td>\n",
       "    </tr>\n",
       "    <tr>\n",
       "      <th>17</th>\n",
       "      <td>wizardlm-13b</td>\n",
       "      <td>0.813826</td>\n",
       "      <td>1058</td>\n",
       "      <td>1</td>\n",
       "      <td>4</td>\n",
       "    </tr>\n",
       "    <tr>\n",
       "      <th>0</th>\n",
       "      <td>vicuna-13b</td>\n",
       "      <td>0.769672</td>\n",
       "      <td>1040</td>\n",
       "      <td>5</td>\n",
       "      <td>5</td>\n",
       "    </tr>\n",
       "    <tr>\n",
       "      <th>18</th>\n",
       "      <td>guanaco-33b</td>\n",
       "      <td>0.765226</td>\n",
       "      <td>1031</td>\n",
       "      <td>6</td>\n",
       "      <td>6</td>\n",
       "    </tr>\n",
       "    <tr>\n",
       "      <th>13</th>\n",
       "      <td>palm-2</td>\n",
       "      <td>0.662761</td>\n",
       "      <td>1005</td>\n",
       "      <td>16</td>\n",
       "      <td>7</td>\n",
       "    </tr>\n",
       "    <tr>\n",
       "      <th>14</th>\n",
       "      <td>vicuna-7b</td>\n",
       "      <td>0.740022</td>\n",
       "      <td>1005</td>\n",
       "      <td>7</td>\n",
       "      <td>8</td>\n",
       "    </tr>\n",
       "    <tr>\n",
       "      <th>2</th>\n",
       "      <td>koala-13b</td>\n",
       "      <td>0.711215</td>\n",
       "      <td>965</td>\n",
       "      <td>8</td>\n",
       "      <td>9</td>\n",
       "    </tr>\n",
       "    <tr>\n",
       "      <th>16</th>\n",
       "      <td>gpt4all-13b-snoozy</td>\n",
       "      <td>0.708363</td>\n",
       "      <td>937</td>\n",
       "      <td>10</td>\n",
       "      <td>10</td>\n",
       "    </tr>\n",
       "    <tr>\n",
       "      <th>12</th>\n",
       "      <td>mpt-7b-chat</td>\n",
       "      <td>0.705898</td>\n",
       "      <td>930</td>\n",
       "      <td>11</td>\n",
       "      <td>11</td>\n",
       "    </tr>\n",
       "    <tr>\n",
       "      <th>11</th>\n",
       "      <td>RWKV-4-Raven-14B</td>\n",
       "      <td>0.690768</td>\n",
       "      <td>924</td>\n",
       "      <td>14</td>\n",
       "      <td>12</td>\n",
       "    </tr>\n",
       "    <tr>\n",
       "      <th>9</th>\n",
       "      <td>alpaca-13b</td>\n",
       "      <td>0.698961</td>\n",
       "      <td>904</td>\n",
       "      <td>12</td>\n",
       "      <td>13</td>\n",
       "    </tr>\n",
       "    <tr>\n",
       "      <th>1</th>\n",
       "      <td>oasst-pythia-12b</td>\n",
       "      <td>0.667587</td>\n",
       "      <td>896</td>\n",
       "      <td>15</td>\n",
       "      <td>14</td>\n",
       "    </tr>\n",
       "    <tr>\n",
       "      <th>6</th>\n",
       "      <td>chatglm-6b</td>\n",
       "      <td>0.695112</td>\n",
       "      <td>883</td>\n",
       "      <td>13</td>\n",
       "      <td>15</td>\n",
       "    </tr>\n",
       "    <tr>\n",
       "      <th>5</th>\n",
       "      <td>fastchat-t5-3b</td>\n",
       "      <td>0.709203</td>\n",
       "      <td>874</td>\n",
       "      <td>9</td>\n",
       "      <td>16</td>\n",
       "    </tr>\n",
       "    <tr>\n",
       "      <th>8</th>\n",
       "      <td>stablelm-tuned-alpha-7b</td>\n",
       "      <td>0.660497</td>\n",
       "      <td>844</td>\n",
       "      <td>17</td>\n",
       "      <td>17</td>\n",
       "    </tr>\n",
       "    <tr>\n",
       "      <th>7</th>\n",
       "      <td>dolly-v2-12b</td>\n",
       "      <td>0.602369</td>\n",
       "      <td>822</td>\n",
       "      <td>18</td>\n",
       "      <td>18</td>\n",
       "    </tr>\n",
       "    <tr>\n",
       "      <th>4</th>\n",
       "      <td>llama-13b</td>\n",
       "      <td>0.529603</td>\n",
       "      <td>800</td>\n",
       "      <td>19</td>\n",
       "      <td>19</td>\n",
       "    </tr>\n",
       "  </tbody>\n",
       "</table>\n",
       "</div>"
      ],
      "text/plain": [
       "                      Model       sim   elo  rank_sim  rank_elo\n",
       "10                claude-v1  0.801175  1150         2         1\n",
       "3             gpt-3.5-turbo  0.799797  1117         3         2\n",
       "15        claude-instant-v1  0.773934  1110         4         3\n",
       "17             wizardlm-13b  0.813826  1058         1         4\n",
       "0                vicuna-13b  0.769672  1040         5         5\n",
       "18              guanaco-33b  0.765226  1031         6         6\n",
       "13                   palm-2  0.662761  1005        16         7\n",
       "14                vicuna-7b  0.740022  1005         7         8\n",
       "2                 koala-13b  0.711215   965         8         9\n",
       "16       gpt4all-13b-snoozy  0.708363   937        10        10\n",
       "12              mpt-7b-chat  0.705898   930        11        11\n",
       "11         RWKV-4-Raven-14B  0.690768   924        14        12\n",
       "9                alpaca-13b  0.698961   904        12        13\n",
       "1          oasst-pythia-12b  0.667587   896        15        14\n",
       "6                chatglm-6b  0.695112   883        13        15\n",
       "5            fastchat-t5-3b  0.709203   874         9        16\n",
       "8   stablelm-tuned-alpha-7b  0.660497   844        17        17\n",
       "7              dolly-v2-12b  0.602369   822        18        18\n",
       "4                 llama-13b  0.529603   800        19        19"
      ]
     },
     "execution_count": 119,
     "metadata": {},
     "output_type": "execute_result"
    }
   ],
   "source": [
    "import pandas as pd\n",
    "\n",
    "rank_elo = sorted(range(len(model_elo)), key=lambda index: model_elo[index], reverse=True)\n",
    "rank_sim = sorted(range(len(models_similarities)), key=lambda index: models_similarities[index], reverse=True)\n",
    "\n",
    "data = {\n",
    "    'Model': models,\n",
    "    'sim': models_similarities,\n",
    "    'elo': model_elo,\n",
    "    'rank_sim': [ rank_sim.index(i)+1 for i in range(len(models)) ],\n",
    "    'rank_elo': [ rank_elo.index(i)+1 for i in range(len(models)) ],\n",
    "}\n",
    "\n",
    "df = pd.DataFrame(data)\n",
    "df_sorted = df.sort_values(by=['rank_elo'], ascending=[True])\n",
    "df_sorted"
   ]
  }
 ],
 "metadata": {
  "kernelspec": {
   "display_name": "Python 3 (ipykernel)",
   "language": "python",
   "name": "python3"
  },
  "language_info": {
   "codemirror_mode": {
    "name": "ipython",
    "version": 3
   },
   "file_extension": ".py",
   "mimetype": "text/x-python",
   "name": "python",
   "nbconvert_exporter": "python",
   "pygments_lexer": "ipython3",
   "version": "3.10.12"
  }
 },
 "nbformat": 4,
 "nbformat_minor": 5
}
