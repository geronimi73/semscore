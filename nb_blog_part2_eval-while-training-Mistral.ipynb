{
 "cells": [
  {
   "cell_type": "code",
   "execution_count": null,
   "id": "097ebb56-11ed-4448-bb62-dd27dd5a5764",
   "metadata": {},
   "outputs": [],
   "source": [
    "!pip install -U peft transformers bitsandbytes accelerate datasets wandb trl flash-attn sentencepiece"
   ]
  },
  {
   "cell_type": "code",
   "execution_count": 1,
   "id": "5ffca980-0b5b-4e2f-8216-8e58e1602873",
   "metadata": {},
   "outputs": [
    {
     "name": "stdout",
     "output_type": "stream",
     "text": [
      "accelerate                        0.28.0             /home/g/accelerate_fork\n",
      "bitsandbytes                      0.42.0\n",
      "datasets                          2.18.0\n",
      "flash-attn                        2.5.6\n",
      "open-clip-torch                   2.23.0\n",
      "peft                              0.9.0\n",
      "sentence-transformers             2.3.1\n",
      "sentencepiece                     0.2.0\n",
      "torch                             2.2.1\n",
      "torch-grammar                     0.3.3\n",
      "transformers                      4.38.2\n",
      "trl                               0.7.11\n"
     ]
    }
   ],
   "source": [
    "!pip list | egrep -w \"transformers|datasets|accelerate|peft|bitsandbytes|trl|torch|flash-attn|sentencepiece\""
   ]
  },
  {
   "cell_type": "code",
   "execution_count": null,
   "id": "bcb73ceb-56a3-4702-a306-e9c005280869",
   "metadata": {},
   "outputs": [],
   "source": [
    "from transformers import AutoTokenizer, AutoModelForCausalLM, TrainingArguments, BitsAndBytesConfig, set_seed\n",
    "from peft import LoraConfig\n",
    "from trl import SFTTrainer, setup_chat_format, DataCollatorForCompletionOnlyLM\n",
    "from datasets import load_dataset\n",
    "import torch\n",
    "\n",
    "set_seed(42)\n",
    "\n",
    "modelpath = \"mistralai/Mistral-7B-v0.1\"\n",
    "model = AutoModelForCausalLM.from_pretrained(\n",
    "    modelpath,    \n",
    "    quantization_config = BitsAndBytesConfig(\n",
    "        load_in_4bit = True,\n",
    "        bnb_4bit_compute_dtype = torch.bfloat16,\n",
    "        bnb_4bit_quant_type = \"nf4\",\n",
    "    ),\n",
    "    attn_implementation = \"flash_attention_2\",  \n",
    "    use_cache = False,\n",
    ")\n",
    "tokenizer = AutoTokenizer.from_pretrained(modelpath, use_fast = False)\n",
    "\n",
    "model, tokenizer = setup_chat_format(model, tokenizer)\n",
    "if tokenizer.pad_token in [None, tokenizer.eos_token]: \n",
    "    tokenizer.pad_token = tokenizer.unk_token\n",
    "\n",
    "dataset = load_dataset(\"g-ronimo/oasst2_top4k_en\")\n",
    "\n",
    "training_arguments = TrainingArguments(\n",
    "    output_dir = \"out_OA_Mistral\",\n",
    "    evaluation_strategy = \"steps\",\n",
    "    label_names = [\"labels\"],\n",
    "    per_device_train_batch_size = 16,\n",
    "    gradient_accumulation_steps = 1,\n",
    "    save_steps = 25_000,\n",
    "    eval_steps = 250,\n",
    "    logging_steps = 1, \n",
    "    learning_rate = 2e-5,\n",
    "    num_train_epochs=10,\n",
    "    lr_scheduler_type = \"constant\",\n",
    "    optim = 'paged_adamw_32bit',\n",
    "    fp16 = True,\n",
    "    gradient_checkpointing = True,\n",
    "    group_by_length = True,\n",
    ")\n",
    "\n",
    "trainer = SFTTrainer(\n",
    "    model = model,\n",
    "    tokenizer = tokenizer,\n",
    "    train_dataset = dataset[\"train\"],\n",
    "    eval_dataset = dataset['test'],\n",
    "    data_collator = DataCollatorForCompletionOnlyLM(\n",
    "        instruction_template = \"<|im_start|>user\", \n",
    "        response_template = \"<|im_start|>assistant\", \n",
    "        tokenizer = tokenizer, \n",
    "        mlm = False),\n",
    "    max_seq_length = 512,\n",
    "    peft_config = LoraConfig(target_modules = \"all-linear\", modules_to_save = [\"lm_head\", \"embed_tokens\"]),\n",
    "    args = training_arguments,\n",
    ")"
   ]
  },
  {
   "cell_type": "code",
   "execution_count": null,
   "id": "95ed3a4e-da09-4a29-a077-0e62e7a4c8ce",
   "metadata": {},
   "outputs": [],
   "source": [
    "from transformers import TrainerCallback\n",
    "from statistics import mean\n",
    "\n",
    "from semscore import ModelPredictionGenerator, EmbeddingModelWrapper\n",
    "\n",
    "class SemscoreEvalCallback(TrainerCallback):\n",
    "    def on_evaluate(self, args, state, control, model, tokenizer, eval_dataloader, **kwargs):\n",
    "\n",
    "        generator = ModelPredictionGenerator(model = model, tokenizer = tokenizer)\n",
    "        eval_ds = dataset[\"test\"].select(range(100))\n",
    "        results = generator.run(dataset = eval_ds)\n",
    "\n",
    "        em = EmbeddingModelWrapper()\n",
    "        similarities = em.get_similarities(\n",
    "            em.get_embeddings( [a[\"answer_ref\"] for a in results] ),\n",
    "            em.get_embeddings( [a[\"answer_pred\"] for a in results] ),\n",
    "        )\n",
    "        cosine_sim = mean(similarities)\n",
    "        trainer.log({\"cosine_sim\": cosine_sim})\n",
    "trainer.add_callback(SemscoreEvalCallback())"
   ]
  },
  {
   "cell_type": "code",
   "execution_count": null,
   "id": "40699192-974e-4c30-b11c-f4b2913c934c",
   "metadata": {},
   "outputs": [],
   "source": [
    "trainer.train()"
   ]
  }
 ],
 "metadata": {
  "kernelspec": {
   "display_name": "Python 3 (ipykernel)",
   "language": "python",
   "name": "python3"
  },
  "language_info": {
   "codemirror_mode": {
    "name": "ipython",
    "version": 3
   },
   "file_extension": ".py",
   "mimetype": "text/x-python",
   "name": "python",
   "nbconvert_exporter": "python",
   "pygments_lexer": "ipython3",
   "version": "3.10.12"
  }
 },
 "nbformat": 4,
 "nbformat_minor": 5
}
